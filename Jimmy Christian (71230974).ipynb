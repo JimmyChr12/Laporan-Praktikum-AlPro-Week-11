{
 "cells": [
  {
   "cell_type": "code",
   "execution_count": 3,
   "id": "c34d7f54",
   "metadata": {
    "scrolled": true
   },
   "outputs": [
    {
     "name": "stdout",
     "output_type": "stream",
     "text": [
      "key\tvalue\titem\n",
      "1 \t 10 \t 1\n",
      "2 \t 20 \t 2\n",
      "3 \t 30 \t 3\n",
      "4 \t 40 \t 4\n",
      "5 \t 50 \t 5\n",
      "6 \t 60 \t 6\n"
     ]
    }
   ],
   "source": [
    "dictionary = {1: 10, 2: 20, 3: 30, 4: 40, 5: 50, 6: 60}\n",
    "print (\"key\\tvalue\\titem\")\n",
    "listkeys = list(dictionary.keys())\n",
    "listvalue = list(dictionary.values())\n",
    "listitems = len(dictionary.items())\n",
    "\n",
    "for i in range (len(dictionary)):\n",
    "    print (listkeys[i], \"\\t\", listvalue[i], \"\\t\", i+1)"
   ]
  },
  {
   "cell_type": "code",
   "execution_count": 2,
   "id": "0066ca01",
   "metadata": {},
   "outputs": [
    {
     "name": "stdout",
     "output_type": "stream",
     "text": [
      "{'red': '#FF0000', 'green': '#008000', 'blue': '#0000FF'}\n"
     ]
    }
   ],
   "source": [
    "lista = [\"red\", \"green\", \"blue\"]\n",
    "listb = [\"#FF0000\", \"#008000\", \"#0000FF\"]\n",
    "hasil = {}\n",
    "for i in range (len(lista)):\n",
    "    hasil[lista[i]] = listb[i]\n",
    "print (hasil)"
   ]
  },
  {
   "cell_type": "code",
   "execution_count": null,
   "id": "9bf882aa",
   "metadata": {},
   "outputs": [],
   "source": [
    "file = input(\"Masukkan nama file: \")\n",
    "handle = open(file)\n",
    "readlines = handle.readlines()\n",
    "pengirim = []\n",
    "alamat = []\n",
    "hasil = {   }\n",
    "for i in range(len(readlines)):\n",
    "    if readlines[i].startswith(\"From \"):\n",
    "         pengirim.append((readlines[i]).split(\" \"))\n",
    "for j in range (len(pengirim)):\n",
    "    alamat.append(pengirim[j][1])\n",
    "for k in alamat:\n",
    "    if k not in hasil:\n",
    "        hasil[k] = 1\n",
    "    else:\n",
    "        hasil[k] = hasil[k] + 1\n",
    "print (hasil)"
   ]
  },
  {
   "cell_type": "code",
   "execution_count": null,
   "id": "6225962b",
   "metadata": {},
   "outputs": [],
   "source": [
    "file = input(\"Masukkan nama file: \")\n",
    "handle = open(file)\n",
    "readlines = handle.readlines()\n",
    "pengirim = []\n",
    "alamat = []\n",
    "domain = []\n",
    "hasil = {}\n",
    "\n",
    "for i in range (len(readlines)):\n",
    "    if readlines[i].startswith(\"From:\"):\n",
    "        pengirim.append((readlines[i]).split(\" \"))\n",
    "for j in range (len(pengirim)):\n",
    "    alamat.append(pengirim[j][1])\n",
    "for k in range (len(alamat)):\n",
    "    domain.append(((alamat[k].replace(\"\\n\", \"\")).strip().split(\"@\"))[1])\n",
    "for l in domain:\n",
    "    if l not in hasil:\n",
    "        hasil[l] = 1\n",
    "    else:\n",
    "        hasil[l] = hasil[l] + 1\n",
    "print (hasil)"
   ]
  }
 ],
 "metadata": {
  "kernelspec": {
   "display_name": "Python 3 (ipykernel)",
   "language": "python",
   "name": "python3"
  },
  "language_info": {
   "codemirror_mode": {
    "name": "ipython",
    "version": 3
   },
   "file_extension": ".py",
   "mimetype": "text/x-python",
   "name": "python",
   "nbconvert_exporter": "python",
   "pygments_lexer": "ipython3",
   "version": "3.11.5"
  }
 },
 "nbformat": 4,
 "nbformat_minor": 5
}
